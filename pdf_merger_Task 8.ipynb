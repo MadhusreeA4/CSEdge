{
  "nbformat": 4,
  "nbformat_minor": 0,
  "metadata": {
    "colab": {
      "provenance": []
    },
    "kernelspec": {
      "name": "python3",
      "display_name": "Python 3"
    },
    "language_info": {
      "name": "python"
    }
  },
  "cells": [
    {
      "cell_type": "code",
      "execution_count": 1,
      "metadata": {
        "colab": {
          "base_uri": "https://localhost:8080/"
        },
        "id": "4GAk0uHGiKpK",
        "outputId": "469f9cc2-df1e-46d7-9298-6fc647ca2b44"
      },
      "outputs": [
        {
          "output_type": "stream",
          "name": "stdout",
          "text": [
            "Collecting PyPDF2\n",
            "  Downloading pypdf2-3.0.1-py3-none-any.whl (232 kB)\n",
            "\u001b[2K     \u001b[90m━━━━━━━━━━━━━━━━━━━━━━━━━━━━━━━━━━━━━━━━\u001b[0m \u001b[32m232.6/232.6 kB\u001b[0m \u001b[31m1.8 MB/s\u001b[0m eta \u001b[36m0:00:00\u001b[0m\n",
            "\u001b[?25hInstalling collected packages: PyPDF2\n",
            "Successfully installed PyPDF2-3.0.1\n"
          ]
        }
      ],
      "source": [
        "pip install PyPDF2\n"
      ]
    },
    {
      "cell_type": "code",
      "source": [
        "import PyPDF2\n",
        "import os\n",
        "\n",
        "class PDFMergerSplitter:\n",
        "    def merge_pdfs(self, pdf_list, output_path):\n",
        "        pdf_merger = PyPDF2.PdfMerger()\n",
        "        for pdf in pdf_list:\n",
        "            pdf_merger.append(pdf)\n",
        "        with open(output_path, 'wb') as output_file:\n",
        "            pdf_merger.write(output_file)\n",
        "        print(f\"Merged PDFs into {output_path}\")\n",
        "\n",
        "    def split_pdf(self, input_path, output_dir):\n",
        "        if not os.path.exists(output_dir):\n",
        "            os.makedirs(output_dir)\n",
        "\n",
        "        with open(input_path, 'rb') as input_file:\n",
        "            pdf_reader = PyPDF2.PdfReader(input_file)\n",
        "            num_pages = len(pdf_reader.pages)\n",
        "\n",
        "            for i in range(num_pages):\n",
        "                pdf_writer = PyPDF2.PdfWriter()\n",
        "                pdf_writer.add_page(pdf_reader.pages[i])\n",
        "\n",
        "                output_path = os.path.join(output_dir, f'split_page_{i+1}.pdf')\n",
        "                with open(output_path, 'wb') as output_file:\n",
        "                    pdf_writer.write(output_file)\n",
        "                print(f\"Saved {output_path}\")\n",
        "\n",
        "def main():\n",
        "    pdf_manager = PDFMergerSplitter()\n",
        "\n",
        "    print(\"1. Merge PDFs\")\n",
        "    print(\"2. Split PDF\")\n",
        "    choice = input(\"Choose an option: \")\n",
        "\n",
        "    if choice == '1':\n",
        "        pdf_list = input(\"Enter the PDF file paths to merge (comma-separated): \").split(',')\n",
        "        output_path = input(\"Enter the output file path: \")\n",
        "        pdf_manager.merge_pdfs(pdf_list, output_path)\n",
        "    elif choice == '2':\n",
        "        input_path = input(\"Enter the PDF file path to split: \")\n",
        "        output_dir = input(\"Enter the directory to save split pages: \")\n",
        "        pdf_manager.split_pdf(input_path, output_dir)\n",
        "    else:\n",
        "        print(\"Invalid choice. Please select 1 or 2.\")\n",
        "\n",
        "if __name__ == \"__main__\":\n",
        "    main()\n"
      ],
      "metadata": {
        "colab": {
          "base_uri": "https://localhost:8080/"
        },
        "id": "99Oo_IEuiT9W",
        "outputId": "e5425afc-8875-437c-da7c-343e60b53c23"
      },
      "execution_count": null,
      "outputs": [
        {
          "name": "stdout",
          "output_type": "stream",
          "text": [
            "1. Merge PDFs\n",
            "2. Split PDF\n",
            "Choose an option: 1\n"
          ]
        }
      ]
    }
  ]
}